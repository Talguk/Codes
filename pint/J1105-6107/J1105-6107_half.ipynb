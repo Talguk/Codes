{
 "cells": [
  {
   "cell_type": "code",
   "execution_count": 1,
   "id": "99ada25b",
   "metadata": {},
   "outputs": [
    {
     "name": "stderr",
     "output_type": "stream",
     "text": [
      "RuntimeWarning: This platform does not support extended precision floating-point, and PINT will run at reduced precision.\n"
     ]
    },
    {
     "data": {
      "text/plain": [
       "1"
      ]
     },
     "execution_count": 1,
     "metadata": {},
     "output_type": "execute_result"
    }
   ],
   "source": [
    "import astropy.units as u\n",
    "import matplotlib.pyplot as plt\n",
    "\n",
    "import pint.fitter\n",
    "from pint.models import get_model_and_toas\n",
    "from pint.residuals import Residuals\n",
    "import pint.logging\n",
    "\n",
    "pint.logging.setup(level=\"INFO\")"
   ]
  },
  {
   "cell_type": "code",
   "execution_count": 2,
   "id": "ecc46222",
   "metadata": {},
   "outputs": [
    {
     "name": "stderr",
     "output_type": "stream",
     "text": [
      "\u001b[33m\u001b[1mWARNING \u001b[0m (pint.logging                  ): \u001b[33m\u001b[1mD:\\miniconda3\\Lib\\site-packages\\pint\\models\\model_builder.py:198 UserWarning: Unrecognized parfile line 'EPHVER 5'\u001b[0m\n",
      "\u001b[33m\u001b[1mWARNING \u001b[0m (pint.logging                  ): \u001b[33m\u001b[1mD:\\miniconda3\\Lib\\site-packages\\pint\\models\\model_builder.py:198 UserWarning: Unrecognized parfile line 'TNGLOBALEF 1.19615'\u001b[0m\n",
      "\u001b[33m\u001b[1mWARNING \u001b[0m (pint.logging                  ): \u001b[33m\u001b[1mD:\\miniconda3\\Lib\\site-packages\\pint\\models\\model_builder.py:198 UserWarning: Unrecognized parfile line 'TNGLOBALEQ -3.55612'\u001b[0m\n",
      "\u001b[33m\u001b[1mWARNING \u001b[0m (pint.models.model_builder     ): \u001b[33m\u001b[1mUNITS is not specified. Assuming TDB...\u001b[0m\n",
      "\u001b[1mINFO    \u001b[0m (pint.toa                      ): \u001b[1mUsing CLOCK = TT(TAI), so setting include_bipm = False\u001b[0m\n",
      "\u001b[1mINFO    \u001b[0m (pint.observatory              ): \u001b[1mApplying GPS to UTC clock correction (~few nanoseconds)\u001b[0m\n",
      "\u001b[1mINFO    \u001b[0m (pint.observatory              ): \u001b[1mLoading global GPS clock file\u001b[0m\n",
      "\u001b[1mINFO    \u001b[0m (pint.observatory.global_clock_corrections): \u001b[1mFile index.txt to be downloaded due to download policy if_expired: https://raw.githubusercontent.com/ipta/pulsar-clock-corrections/main/index.txt\u001b[0m\n",
      "\u001b[1mINFO    \u001b[0m (pint.observatory              ): \u001b[1mUsing global clock file for gps2utc.clk with bogus_last_correction=False\u001b[0m\n",
      "\u001b[1mINFO    \u001b[0m (pint.observatory              ): \u001b[1mUsing global clock file for mo2gps.clk with bogus_last_correction=True\u001b[0m\n",
      "\u001b[1mINFO    \u001b[0m (pint.observatory.topo_obs     ): \u001b[1mApplying observatory clock corrections for observatory='most'.\u001b[0m\n",
      "\u001b[1mINFO    \u001b[0m (pint.observatory.global_clock_corrections): \u001b[1mFile T2runtime/clock/mo2gps.clk to be downloaded due to download policy if_expired: https://raw.githubusercontent.com/ipta/pulsar-clock-corrections/main/T2runtime/clock/mo2gps.clk\u001b[0m\n",
      "\u001b[33m\u001b[1mWARNING \u001b[0m (pint.logging                  ): \u001b[33m\u001b[1mD:\\miniconda3\\Lib\\site-packages\\pint\\observatory\\clock_file.py:176 UserWarning: Data points out of range in clock file 'mo2gps.clk'\u001b[0m\n",
      "\u001b[1mINFO    \u001b[0m (pint.solar_system_ephemerides ): \u001b[1mSet solar system ephemeris to de430 through astropy\u001b[0m\n"
     ]
    },
    {
     "data": {
      "text/plain": [
       "TimingModel(\n",
       "  AbsPhase(\n",
       "    MJDParameter(   TZRMJD              57914.3295077349225347 (d) frozen=True),\n",
       "    strParameter(   TZRSITE             mo                frozen=True),\n",
       "    floatParameter( TZRFRQ              835.281006        (MHz) frozen=True)),\n",
       "  AstrometryEquatorial(\n",
       "    MJDParameter(   POSEPOCH            57600.0000000000000000 (d) frozen=True),\n",
       "    floatParameter( PX                  0.0               (mas) frozen=True),\n",
       "    AngleParameter( RAJ                 11:05:26.20662100 (hourangle) +/- 0h00m00.11789s frozen=False),\n",
       "    AngleParameter( DECJ                -61:07:48.03906000 (deg) +/- 0d00m00.80662s frozen=False),\n",
       "    floatParameter( PMRA                0.0               (mas / yr) frozen=True),\n",
       "    floatParameter( PMDEC               0.0               (mas / yr) frozen=True)),\n",
       "  DispersionDM(\n",
       "    floatParameter( DM                  271.01            (pc / cm3) +/- 0.02 pc / cm3 frozen=True),\n",
       "    floatParameter( DM1                 UNSET,\n",
       "    MJDParameter(   DMEPOCH             57600.0000000000000000 (d) frozen=True)),\n",
       "  PLRedNoise(\n",
       "    floatParameter( RNAMP               UNSET,\n",
       "    floatParameter( RNIDX               UNSET,\n",
       "    floatParameter( TNREDAMP            -8.94933          () frozen=True),\n",
       "    floatParameter( TNREDGAM            4.37021           () frozen=True),\n",
       "    floatParameter( TNREDC              8.0               () frozen=True)),\n",
       "  SolarSystemShapiro(\n",
       "    boolParameter(  PLANET_SHAPIRO      N                 frozen=True)),\n",
       "  SolarWindDispersion(\n",
       "    floatParameter( NE_SW               9.961             (1 / cm3) frozen=True),\n",
       "    floatParameter( SWP                 2.0               () frozen=True),\n",
       "    floatParameter( SWM                 0.0               () frozen=True)),\n",
       "  Spindown(\n",
       "    floatParameter( F0                  15.822251328775272 (Hz) +/- 1.75643007175e-09 Hz frozen=False),\n",
       "    MJDParameter(   PEPOCH              57600.0000000000000000 (d) frozen=True),\n",
       "    floatParameter( F1                  -3.966983884354932e-12 (Hz / s) +/- 6.856916223229575e-17 Hz / s frozen=False))\n",
       ")"
      ]
     },
     "execution_count": 2,
     "metadata": {},
     "output_type": "execute_result"
    }
   ],
   "source": [
    "parfile= \"J1105-6107.par\"\n",
    "timfile= \"J1105-6107_p2.tim\"\n",
    "\n",
    "m, t_all = get_model_and_toas(parfile, timfile)\n",
    "m"
   ]
  },
  {
   "cell_type": "code",
   "execution_count": 3,
   "id": "4fc03f6e",
   "metadata": {},
   "outputs": [
    {
     "data": {
      "image/png": "[encoded data removed]",
      "text/plain": [
       "<Figure size 640x480 with 1 Axes>"
      ]
     },
     "metadata": {},
     "output_type": "display_data"
    }
   ],
   "source": [
    "rs = Residuals(t_all, m).phase_resids\n",
    "xt = t_all.get_mjds()\n",
    "plt.figure()\n",
    "plt.plot(xt, rs, \"x\")\n",
    "plt.title(f\"{m.PSR.value} Pre-Fit Timing Residuals\")\n",
    "plt.xlabel(\"MJD\")\n",
    "plt.ylabel(\"Residual (phase)\")\n",
    "plt.grid()"
   ]
  },
  {
   "cell_type": "code",
   "execution_count": 4,
   "id": "9680eeba",
   "metadata": {},
   "outputs": [
    {
     "name": "stdout",
     "output_type": "stream",
     "text": [
      "Number of TOAs:  75\n",
      "Number of commands:  2\n",
      "Number of observatories: 1 ['most']\n",
      "MJD span:  58172.628 to 58422.939\n",
      "Date span: 2018-02-23 15:03:40.890653612 to 2018-10-31 22:31:50.178752052\n",
      "most TOAs (75):\n",
      "  Min freq:      834.634 MHz\n",
      "  Max freq:      835.411 MHz\n",
      "  Min error:     28.8 us\n",
      "  Max error:     1.03e+03 us\n",
      "  Median error:  95.9 us\n",
      "\n"
     ]
    }
   ],
   "source": [
    "t_all.print_summary()"
   ]
  },
  {
   "cell_type": "code",
   "execution_count": 5,
   "id": "abc9d362",
   "metadata": {},
   "outputs": [
    {
     "name": "stdout",
     "output_type": "stream",
     "text": [
      "Number of TOAs:  74\n",
      "Number of commands:  2\n",
      "Number of observatories: 1 ['most']\n",
      "MJD span:  58172.628 to 58422.939\n",
      "Date span: 2018-02-23 15:03:40.890653612 to 2018-10-31 22:31:50.178752052\n",
      "most TOAs (74):\n",
      "  Min freq:      834.634 MHz\n",
      "  Max freq:      835.411 MHz\n",
      "  Min error:     28.8 us\n",
      "  Max error:     809 us\n",
      "  Median error:  95.5 us\n",
      "\n"
     ]
    }
   ],
   "source": [
    "error_ok = t_all.table[\"error\"] <= 1000* u.us\n",
    "t = t_all[error_ok]\n",
    "t.print_summary()\n",
    "\n"
   ]
  },
  {
   "cell_type": "code",
   "execution_count": 6,
   "id": "24719dc2",
   "metadata": {},
   "outputs": [
    {
     "data": {
      "image/png": "[encoded data removed]",
      "text/plain": [
       "<Figure size 640x480 with 1 Axes>"
      ]
     },
     "metadata": {},
     "output_type": "display_data"
    }
   ],
   "source": [
    "rs = Residuals(t, m).phase_resids\n",
    "xt = t.get_mjds()\n",
    "plt.figure()\n",
    "plt.plot(xt, rs, \"x\")\n",
    "plt.title(f\"{m.PSR.value} Pre-Fit Timing Residuals\")\n",
    "plt.xlabel(\"MJD\")\n",
    "plt.ylabel(\"Residual (phase)\")\n",
    "plt.grid()"
   ]
  },
  {
   "cell_type": "code",
   "execution_count": 7,
   "id": "d31c7364",
   "metadata": {
    "scrolled": true
   },
   "outputs": [
    {
     "name": "stderr",
     "output_type": "stream",
     "text": [
      "\u001b[1mINFO    \u001b[0m (pint.fitter                   ): \u001b[1mFor narrowband TOAs with correlated errors and downhill fitter, returning 'DownhillGLSFitter'\u001b[0m\n"
     ]
    },
    {
     "data": {
      "text/plain": [
       "True"
      ]
     },
     "execution_count": 7,
     "metadata": {},
     "output_type": "execute_result"
    }
   ],
   "source": [
    "f = pint.fitter.Fitter.auto(t, m)\n",
    "f.fit_toas()"
   ]
  },
  {
   "cell_type": "code",
   "execution_count": 8,
   "id": "6da62f5e",
   "metadata": {},
   "outputs": [
    {
     "name": "stdout",
     "output_type": "stream",
     "text": [
      "Fitted model using downhill_gls method with 4 free parameters to 74 TOAs\n",
      "Prefit residuals Wrms = 81117.14241118741 us, Postfit residuals Wrms = 1200.637332002626 us\n",
      "Chisq = 450.352 for 69 d.o.f. for reduced Chisq of 6.527\n",
      "\n",
      "PAR                   Prefit                  Postfit            Units\n",
      "============== ==================== ============================ =====\n",
      "PSR                      J1105-6107 J1105-6107                   None\n",
      "TRACK                            -2 -2                           None\n",
      "EPHEM                         DE430 DE430                        None\n",
      "CLOCK                       TT(TAI) TT(TAI)                      None\n",
      "UNITS                           TDB TDB                          None\n",
      "START                       57360.8                      58172.6 d \n",
      "FINISH                      58422.9                      58422.9 d \n",
      "DILATEFREQ                        N                              None\n",
      "DMDATA                            N                              None\n",
      "NTOA                            145                              None \n",
      "CHI2                                                     450.352  \n",
      "CHI2R                       4739.25                      6.52684  \n",
      "TRES                        15566.4                      1200.64 us \n",
      "POSEPOCH                      57600                              d \n",
      "PX                                0                              mas \n",
      "RAJ                11h05m26.206621s  11h05m26.55886986s +/- 0.34 hourangle_second \n",
      "DECJ               -61d07m48.03906s  -61d07m46.71924774s +/- 1.7 arcsec \n",
      "PMRA                              0                              mas / yr \n",
      "PMDEC                             0                              mas / yr \n",
      "F0                          15.8223              15.82225144(10) Hz \n",
      "PEPOCH                        57600                              d \n",
      "F1                     -3.96698e-12            -3.9652(16)×10⁻¹² Hz / s \n",
      "PLANET_SHAPIRO                    N                              None\n",
      "NE_SW                         9.961                              1 / cm3 \n",
      "SWP                               2                               \n",
      "SWM                               0                               \n",
      "DM                           271.01                              pc / cm3 \n",
      "DMEPOCH                       57600                              d \n",
      "TZRMJD                      57914.3                              d \n",
      "TZRSITE                          mo mo                           None\n",
      "TZRFRQ                      835.281                              MHz \n",
      "TNREDAMP                   -8.94933                               \n",
      "TNREDGAM                    4.37021                               \n",
      "TNREDC                            8                               \n",
      "\n",
      "Derived Parameters:\n",
      "Period = 0.06320213046162837 s +/- 3.900043002877421e-10 s\n",
      "Pdot = 1.583903720105522e-14 +/- 6.460405594851535e-18\n",
      "Characteristic age = 6.322e+04 yr (braking index = 3)\n",
      "Surface magnetic field = 1.01e+12 G\n",
      "Magnetic field at light cylinder = 3.634e+04 G\n",
      "Spindown Edot = 2.477e+36 erg / s (I=1e+45 cm2 g)\n",
      "\n"
     ]
    }
   ],
   "source": [
    "f.print_summary()\n"
   ]
  },
  {
   "cell_type": "code",
   "execution_count": 9,
   "id": "d1b4ef6a",
   "metadata": {},
   "outputs": [],
   "source": [
    "nu1=15.8222515841\n",
    "nu2=15.82225144\n",
    "nudot1=-3.96697e-12\n",
    "nudot2=-3.9652e-12\n",
    "dt_days=(58422.9+58172.6)/2-(58172.6+57360.8)/2\n",
    "dt=dt_days*24*60*60"
   ]
  },
  {
   "cell_type": "code",
   "execution_count": 10,
   "id": "dee526f9",
   "metadata": {},
   "outputs": [
    {
     "name": "stdout",
     "output_type": "stream",
     "text": [
      "39.80248306289759\n"
     ]
    }
   ],
   "source": [
    "n=1+(nu1*nudot2-nu2*nudot1)/(nudot1*nudot2*dt)\n",
    "print(n)"
   ]
  },
  {
   "cell_type": "code",
   "execution_count": null,
   "id": "7c5ef601",
   "metadata": {},
   "outputs": [],
   "source": []
  }
 ],
 "metadata": {
  "kernelspec": {
   "display_name": "Python 3 (ipykernel)",
   "language": "python",
   "name": "python3"
  },
  "language_info": {
   "codemirror_mode": {
    "name": "ipython",
    "version": 3
   },
   "file_extension": ".py",
   "mimetype": "text/x-python",
   "name": "python",
   "nbconvert_exporter": "python",
   "pygments_lexer": "ipython3",
   "version": "3.11.4"
  }
 },
 "nbformat": 4,
 "nbformat_minor": 5
}
