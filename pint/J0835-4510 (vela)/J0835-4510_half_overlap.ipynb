{
 "cells": [
  {
   "cell_type": "code",
   "execution_count": 1,
   "id": "99ada25b",
   "metadata": {},
   "outputs": [
    {
     "name": "stderr",
     "output_type": "stream",
     "text": [
      "RuntimeWarning: This platform does not support extended precision floating-point, and PINT will run at reduced precision.\n"
     ]
    },
    {
     "data": {
      "text/plain": [
       "1"
      ]
     },
     "execution_count": 1,
     "metadata": {},
     "output_type": "execute_result"
    }
   ],
   "source": [
    "import astropy.units as u\n",
    "import matplotlib.pyplot as plt\n",
    "\n",
    "import pint.fitter\n",
    "from pint.models import get_model_and_toas\n",
    "from pint.residuals import Residuals\n",
    "import pint.logging\n",
    "\n",
    "pint.logging.setup(level=\"INFO\")"
   ]
  },
  {
   "cell_type": "code",
   "execution_count": 2,
   "id": "ecc46222",
   "metadata": {},
   "outputs": [
    {
     "ename": "FileNotFoundError",
     "evalue": "[Errno 2] No such file or directory: 'J1709-4429.par'",
     "output_type": "error",
     "traceback": [
      "\u001b[1;31m---------------------------------------------------------------------------\u001b[0m",
      "\u001b[1;31mFileNotFoundError\u001b[0m                         Traceback (most recent call last)",
      "Cell \u001b[1;32mIn[2], line 4\u001b[0m\n\u001b[0;32m      1\u001b[0m parfile\u001b[38;5;241m=\u001b[39m \u001b[38;5;124m\"\u001b[39m\u001b[38;5;124mJ1709-4429.par\u001b[39m\u001b[38;5;124m\"\u001b[39m\n\u001b[0;32m      2\u001b[0m timfile\u001b[38;5;241m=\u001b[39m \u001b[38;5;124m\"\u001b[39m\u001b[38;5;124mJ1709-4429_overlap2.tim\u001b[39m\u001b[38;5;124m\"\u001b[39m\n\u001b[1;32m----> 4\u001b[0m m, t_all \u001b[38;5;241m=\u001b[39m get_model_and_toas(parfile, timfile)\n\u001b[0;32m      5\u001b[0m m\n",
      "File \u001b[1;32mD:\\miniconda3\\Lib\\site-packages\\pint\\models\\model_builder.py:798\u001b[0m, in \u001b[0;36mget_model_and_toas\u001b[1;34m(parfile, timfile, ephem, include_bipm, bipm_version, include_gps, planets, usepickle, tdb_method, include_pn, picklefilename, allow_name_mixing, limits, allow_tcb, add_tzr_to_model, **kwargs)\u001b[0m\n\u001b[0;32m    724\u001b[0m \u001b[38;5;28;01mdef\u001b[39;00m \u001b[38;5;21mget_model_and_toas\u001b[39m(\n\u001b[0;32m    725\u001b[0m     parfile,\n\u001b[0;32m    726\u001b[0m     timfile,\n\u001b[1;32m   (...)\u001b[0m\n\u001b[0;32m    740\u001b[0m     \u001b[38;5;241m*\u001b[39m\u001b[38;5;241m*\u001b[39mkwargs,\n\u001b[0;32m    741\u001b[0m ):\n\u001b[0;32m    742\u001b[0m \u001b[38;5;250m    \u001b[39m\u001b[38;5;124;03m\"\"\"Load a timing model and a related TOAs, using model commands as needed\u001b[39;00m\n\u001b[0;32m    743\u001b[0m \n\u001b[0;32m    744\u001b[0m \u001b[38;5;124;03m    Parameters\u001b[39;00m\n\u001b[1;32m   (...)\u001b[0m\n\u001b[0;32m    795\u001b[0m \u001b[38;5;124;03m    A tuple with (model instance, TOAs instance)\u001b[39;00m\n\u001b[0;32m    796\u001b[0m \u001b[38;5;124;03m    \"\"\"\u001b[39;00m\n\u001b[1;32m--> 798\u001b[0m     mm \u001b[38;5;241m=\u001b[39m get_model(parfile, allow_name_mixing, allow_tcb\u001b[38;5;241m=\u001b[39mallow_tcb, \u001b[38;5;241m*\u001b[39m\u001b[38;5;241m*\u001b[39mkwargs)\n\u001b[0;32m    800\u001b[0m     tt \u001b[38;5;241m=\u001b[39m get_TOAs(\n\u001b[0;32m    801\u001b[0m         timfile,\n\u001b[0;32m    802\u001b[0m         include_pn\u001b[38;5;241m=\u001b[39minclude_pn,\n\u001b[1;32m   (...)\u001b[0m\n\u001b[0;32m    812\u001b[0m         limits\u001b[38;5;241m=\u001b[39mlimits,\n\u001b[0;32m    813\u001b[0m     )\n\u001b[0;32m    815\u001b[0m     \u001b[38;5;28;01mif\u001b[39;00m \u001b[38;5;124m\"\u001b[39m\u001b[38;5;124mAbsPhase\u001b[39m\u001b[38;5;124m\"\u001b[39m \u001b[38;5;129;01mnot\u001b[39;00m \u001b[38;5;129;01min\u001b[39;00m mm\u001b[38;5;241m.\u001b[39mcomponents \u001b[38;5;129;01mand\u001b[39;00m add_tzr_to_model:\n",
      "File \u001b[1;32mD:\\miniconda3\\Lib\\site-packages\\pint\\models\\model_builder.py:712\u001b[0m, in \u001b[0;36mget_model\u001b[1;34m(parfile, allow_name_mixing, allow_tcb, toas_for_tzr, **kwargs)\u001b[0m\n\u001b[0;32m    701\u001b[0m     \u001b[38;5;28;01mreturn\u001b[39;00m model_builder(\n\u001b[0;32m    702\u001b[0m         StringIO(contents),\n\u001b[0;32m    703\u001b[0m         allow_name_mixing,\n\u001b[1;32m   (...)\u001b[0m\n\u001b[0;32m    706\u001b[0m         \u001b[38;5;241m*\u001b[39m\u001b[38;5;241m*\u001b[39mkwargs,\n\u001b[0;32m    707\u001b[0m     )\n\u001b[0;32m    709\u001b[0m \u001b[38;5;66;03m# # parfile is a filename and can be handled by ModelBuilder\u001b[39;00m\n\u001b[0;32m    710\u001b[0m \u001b[38;5;66;03m# if _model_builder is None:\u001b[39;00m\n\u001b[0;32m    711\u001b[0m \u001b[38;5;66;03m#     _model_builder = ModelBuilder()\u001b[39;00m\n\u001b[1;32m--> 712\u001b[0m model \u001b[38;5;241m=\u001b[39m model_builder(\n\u001b[0;32m    713\u001b[0m     parfile,\n\u001b[0;32m    714\u001b[0m     allow_name_mixing,\n\u001b[0;32m    715\u001b[0m     allow_tcb\u001b[38;5;241m=\u001b[39mallow_tcb,\n\u001b[0;32m    716\u001b[0m     toas_for_tzr\u001b[38;5;241m=\u001b[39mtoas_for_tzr,\n\u001b[0;32m    717\u001b[0m     \u001b[38;5;241m*\u001b[39m\u001b[38;5;241m*\u001b[39mkwargs,\n\u001b[0;32m    718\u001b[0m )\n\u001b[0;32m    719\u001b[0m model\u001b[38;5;241m.\u001b[39mname \u001b[38;5;241m=\u001b[39m parfile\n\u001b[0;32m    721\u001b[0m \u001b[38;5;28;01mreturn\u001b[39;00m model\n",
      "File \u001b[1;32mD:\\miniconda3\\Lib\\site-packages\\pint\\models\\model_builder.py:154\u001b[0m, in \u001b[0;36mModelBuilder.__call__\u001b[1;34m(self, parfile, allow_name_mixing, allow_tcb, toas_for_tzr, **kwargs)\u001b[0m\n\u001b[0;32m    151\u001b[0m convert_tcb \u001b[38;5;241m=\u001b[39m allow_tcb \u001b[38;5;241m==\u001b[39m \u001b[38;5;28;01mTrue\u001b[39;00m\n\u001b[0;32m    152\u001b[0m allow_tcb_ \u001b[38;5;241m=\u001b[39m allow_tcb \u001b[38;5;129;01min\u001b[39;00m [\u001b[38;5;28;01mTrue\u001b[39;00m, \u001b[38;5;124m\"\u001b[39m\u001b[38;5;124mraw\u001b[39m\u001b[38;5;124m\"\u001b[39m]\n\u001b[1;32m--> 154\u001b[0m pint_param_dict, original_name, unknown_param \u001b[38;5;241m=\u001b[39m \u001b[38;5;28mself\u001b[39m\u001b[38;5;241m.\u001b[39m_pintify_parfile(\n\u001b[0;32m    155\u001b[0m     parfile, allow_name_mixing\n\u001b[0;32m    156\u001b[0m )\n\u001b[0;32m    157\u001b[0m remaining_args \u001b[38;5;241m=\u001b[39m {}\n\u001b[0;32m    158\u001b[0m \u001b[38;5;28;01mfor\u001b[39;00m k, v \u001b[38;5;129;01min\u001b[39;00m kwargs\u001b[38;5;241m.\u001b[39mitems():\n",
      "File \u001b[1;32mD:\\miniconda3\\Lib\\site-packages\\pint\\models\\model_builder.py:357\u001b[0m, in \u001b[0;36mModelBuilder._pintify_parfile\u001b[1;34m(self, parfile, allow_name_mixing)\u001b[0m\n\u001b[0;32m    355\u001b[0m repeating \u001b[38;5;241m=\u001b[39m Counter()\n\u001b[0;32m    356\u001b[0m \u001b[38;5;28;01mif\u001b[39;00m \u001b[38;5;28misinstance\u001b[39m(parfile, (\u001b[38;5;28mstr\u001b[39m, StringIO, Path)):\n\u001b[1;32m--> 357\u001b[0m     parfile_dict \u001b[38;5;241m=\u001b[39m parse_parfile(parfile)\n\u001b[0;32m    358\u001b[0m \u001b[38;5;28;01melse\u001b[39;00m:\n\u001b[0;32m    359\u001b[0m     parfile_dict \u001b[38;5;241m=\u001b[39m parfile\n",
      "File \u001b[1;32mD:\\miniconda3\\Lib\\site-packages\\pint\\models\\model_builder.py:62\u001b[0m, in \u001b[0;36mparse_parfile\u001b[1;34m(parfile)\u001b[0m\n\u001b[0;32m     48\u001b[0m \u001b[38;5;250m\u001b[39m\u001b[38;5;124;03m\"\"\"Function for parsing .par file or .par style StringIO.\u001b[39;00m\n\u001b[0;32m     49\u001b[0m \n\u001b[0;32m     50\u001b[0m \u001b[38;5;124;03mParameters\u001b[39;00m\n\u001b[1;32m   (...)\u001b[0m\n\u001b[0;32m     59\u001b[0m \u001b[38;5;124;03m    the value is a list of the lines associated to the parameter name.\u001b[39;00m\n\u001b[0;32m     60\u001b[0m \u001b[38;5;124;03m\"\"\"\u001b[39;00m\n\u001b[0;32m     61\u001b[0m parfile_dict \u001b[38;5;241m=\u001b[39m defaultdict(\u001b[38;5;28mlist\u001b[39m)\n\u001b[1;32m---> 62\u001b[0m \u001b[38;5;28;01mfor\u001b[39;00m l \u001b[38;5;129;01min\u001b[39;00m interesting_lines(lines_of(parfile), comments\u001b[38;5;241m=\u001b[39m(\u001b[38;5;124m\"\u001b[39m\u001b[38;5;124m#\u001b[39m\u001b[38;5;124m\"\u001b[39m, \u001b[38;5;124m\"\u001b[39m\u001b[38;5;124mC \u001b[39m\u001b[38;5;124m\"\u001b[39m)):\n\u001b[0;32m     63\u001b[0m     k \u001b[38;5;241m=\u001b[39m l\u001b[38;5;241m.\u001b[39msplit()\n\u001b[0;32m     64\u001b[0m     parfile_dict[k[\u001b[38;5;241m0\u001b[39m]\u001b[38;5;241m.\u001b[39mupper()]\u001b[38;5;241m.\u001b[39mappend(\u001b[38;5;124m\"\u001b[39m\u001b[38;5;124m \u001b[39m\u001b[38;5;124m\"\u001b[39m\u001b[38;5;241m.\u001b[39mjoin(k[\u001b[38;5;241m1\u001b[39m:]))\n",
      "File \u001b[1;32mD:\\miniconda3\\Lib\\site-packages\\pint\\utils.py:494\u001b[0m, in \u001b[0;36minteresting_lines\u001b[1;34m(lines, comments)\u001b[0m\n\u001b[0;32m    489\u001b[0m     \u001b[38;5;28;01mif\u001b[39;00m \u001b[38;5;129;01mnot\u001b[39;00m cs \u001b[38;5;129;01mor\u001b[39;00m \u001b[38;5;129;01mnot\u001b[39;00m c\u001b[38;5;241m.\u001b[39mstartswith(cs):\n\u001b[0;32m    490\u001b[0m         \u001b[38;5;28;01mraise\u001b[39;00m \u001b[38;5;167;01mValueError\u001b[39;00m(\n\u001b[0;32m    491\u001b[0m             \u001b[38;5;124m\"\u001b[39m\u001b[38;5;124mUnable to deal with comments that start with whitespace, \u001b[39m\u001b[38;5;124m\"\u001b[39m\n\u001b[0;32m    492\u001b[0m             \u001b[38;5;124m\"\u001b[39m\u001b[38;5;124mbut comment string \u001b[39m\u001b[38;5;132;01m{!r}\u001b[39;00m\u001b[38;5;124m was requested.\u001b[39m\u001b[38;5;124m\"\u001b[39m\u001b[38;5;241m.\u001b[39mformat(c)\n\u001b[0;32m    493\u001b[0m         )\n\u001b[1;32m--> 494\u001b[0m \u001b[38;5;28;01mfor\u001b[39;00m ln \u001b[38;5;129;01min\u001b[39;00m lines:\n\u001b[0;32m    495\u001b[0m     ln \u001b[38;5;241m=\u001b[39m ln\u001b[38;5;241m.\u001b[39mstrip()\n\u001b[0;32m    496\u001b[0m     \u001b[38;5;28;01mif\u001b[39;00m \u001b[38;5;129;01mnot\u001b[39;00m ln:\n",
      "File \u001b[1;32mD:\\miniconda3\\Lib\\site-packages\\pint\\utils.py:469\u001b[0m, in \u001b[0;36mlines_of\u001b[1;34m(f)\u001b[0m\n\u001b[0;32m    460\u001b[0m \u001b[38;5;28;01mdef\u001b[39;00m \u001b[38;5;21mlines_of\u001b[39m(f):\n\u001b[0;32m    461\u001b[0m \u001b[38;5;250m    \u001b[39m\u001b[38;5;124;03m\"\"\"Iterate over the lines of a file, an open file, or an iterator.\u001b[39;00m\n\u001b[0;32m    462\u001b[0m \n\u001b[0;32m    463\u001b[0m \u001b[38;5;124;03m    If ``f`` is a string, try to open a file of that name. Otherwise\u001b[39;00m\n\u001b[1;32m   (...)\u001b[0m\n\u001b[0;32m    467\u001b[0m \n\u001b[0;32m    468\u001b[0m \u001b[38;5;124;03m    \"\"\"\u001b[39;00m\n\u001b[1;32m--> 469\u001b[0m     \u001b[38;5;28;01mwith\u001b[39;00m open_or_use(f) \u001b[38;5;28;01mas\u001b[39;00m fo:\n\u001b[0;32m    470\u001b[0m         \u001b[38;5;28;01myield from\u001b[39;00m fo\n",
      "File \u001b[1;32mD:\\miniconda3\\Lib\\contextlib.py:137\u001b[0m, in \u001b[0;36m_GeneratorContextManager.__enter__\u001b[1;34m(self)\u001b[0m\n\u001b[0;32m    135\u001b[0m \u001b[38;5;28;01mdel\u001b[39;00m \u001b[38;5;28mself\u001b[39m\u001b[38;5;241m.\u001b[39margs, \u001b[38;5;28mself\u001b[39m\u001b[38;5;241m.\u001b[39mkwds, \u001b[38;5;28mself\u001b[39m\u001b[38;5;241m.\u001b[39mfunc\n\u001b[0;32m    136\u001b[0m \u001b[38;5;28;01mtry\u001b[39;00m:\n\u001b[1;32m--> 137\u001b[0m     \u001b[38;5;28;01mreturn\u001b[39;00m \u001b[38;5;28mnext\u001b[39m(\u001b[38;5;28mself\u001b[39m\u001b[38;5;241m.\u001b[39mgen)\n\u001b[0;32m    138\u001b[0m \u001b[38;5;28;01mexcept\u001b[39;00m \u001b[38;5;167;01mStopIteration\u001b[39;00m:\n\u001b[0;32m    139\u001b[0m     \u001b[38;5;28;01mraise\u001b[39;00m \u001b[38;5;167;01mRuntimeError\u001b[39;00m(\u001b[38;5;124m\"\u001b[39m\u001b[38;5;124mgenerator didn\u001b[39m\u001b[38;5;124m'\u001b[39m\u001b[38;5;124mt yield\u001b[39m\u001b[38;5;124m\"\u001b[39m) \u001b[38;5;28;01mfrom\u001b[39;00m \u001b[38;5;28;01mNone\u001b[39;00m\n",
      "File \u001b[1;32mD:\\miniconda3\\Lib\\site-packages\\pint\\utils.py:454\u001b[0m, in \u001b[0;36mopen_or_use\u001b[1;34m(f, mode)\u001b[0m\n\u001b[0;32m    446\u001b[0m \u001b[38;5;250m\u001b[39m\u001b[38;5;124;03m\"\"\"Open a filename or use an open file.\u001b[39;00m\n\u001b[0;32m    447\u001b[0m \n\u001b[0;32m    448\u001b[0m \u001b[38;5;124;03mSpecifically, if f is a string, try to use it as an argument to\u001b[39;00m\n\u001b[1;32m   (...)\u001b[0m\n\u001b[0;32m    451\u001b[0m \n\u001b[0;32m    452\u001b[0m \u001b[38;5;124;03m\"\"\"\u001b[39;00m\n\u001b[0;32m    453\u001b[0m \u001b[38;5;28;01mif\u001b[39;00m \u001b[38;5;28misinstance\u001b[39m(f, (\u001b[38;5;28mstr\u001b[39m, \u001b[38;5;28mbytes\u001b[39m, Path)):\n\u001b[1;32m--> 454\u001b[0m     \u001b[38;5;28;01mwith\u001b[39;00m \u001b[38;5;28mopen\u001b[39m(f, mode) \u001b[38;5;28;01mas\u001b[39;00m fl:\n\u001b[0;32m    455\u001b[0m         \u001b[38;5;28;01myield\u001b[39;00m fl\n\u001b[0;32m    456\u001b[0m \u001b[38;5;28;01melse\u001b[39;00m:\n",
      "\u001b[1;31mFileNotFoundError\u001b[0m: [Errno 2] No such file or directory: 'J1709-4429.par'"
     ]
    }
   ],
   "source": [
    "parfile= \"J1709-4429.par\"\n",
    "timfile= \"J1709-4429_overlap2.tim\"\n",
    "\n",
    "m, t_all = get_model_and_toas(parfile, timfile)\n",
    "m"
   ]
  },
  {
   "cell_type": "code",
   "execution_count": null,
   "id": "4fc03f6e",
   "metadata": {},
   "outputs": [],
   "source": [
    "rs = Residuals(t_all, m).phase_resids\n",
    "xt = t_all.get_mjds()\n",
    "plt.figure()\n",
    "plt.plot(xt, rs, \"x\")\n",
    "plt.title(f\"{m.PSR.value} Pre-Fit Timing Residuals\")\n",
    "plt.xlabel(\"MJD\")\n",
    "plt.ylabel(\"Residual (phase)\")\n",
    "plt.grid()"
   ]
  },
  {
   "cell_type": "code",
   "execution_count": null,
   "id": "9680eeba",
   "metadata": {},
   "outputs": [],
   "source": [
    "t_all.print_summary()"
   ]
  },
  {
   "cell_type": "code",
   "execution_count": null,
   "id": "abc9d362",
   "metadata": {},
   "outputs": [],
   "source": [
    "error_ok = t_all.table[\"error\"] <= 500* u.us\n",
    "t = t_all[error_ok]\n",
    "t.print_summary()\n",
    "\n"
   ]
  },
  {
   "cell_type": "code",
   "execution_count": null,
   "id": "24719dc2",
   "metadata": {},
   "outputs": [],
   "source": [
    "rs = Residuals(t, m).phase_resids\n",
    "xt = t.get_mjds()\n",
    "plt.figure()\n",
    "plt.plot(xt, rs, \"x\")\n",
    "plt.title(f\"{m.PSR.value} Pre-Fit Timing Residuals\")\n",
    "plt.xlabel(\"MJD\")\n",
    "plt.ylabel(\"Residual (phase)\")\n",
    "plt.grid()"
   ]
  },
  {
   "cell_type": "code",
   "execution_count": null,
   "id": "d31c7364",
   "metadata": {
    "scrolled": true
   },
   "outputs": [],
   "source": [
    "f = pint.fitter.Fitter.auto(t, m)\n",
    "f.fit_toas()"
   ]
  },
  {
   "cell_type": "code",
   "execution_count": null,
   "id": "6da62f5e",
   "metadata": {},
   "outputs": [],
   "source": [
    "f.print_summary()\n"
   ]
  },
  {
   "cell_type": "code",
   "execution_count": null,
   "id": "d1b4ef6a",
   "metadata": {},
   "outputs": [],
   "source": [
    "nu1=9.75429007956\n",
    "nu2=9.754290034\n",
    "nudot1=-8.85160e-12\n",
    "nudot2=-8.84750e-12\n",
    "dt_days=(58418.2+57555.5)/2-(58010.3+57171.6)/2\n",
    "dt=dt_days*24*60*60"
   ]
  },
  {
   "cell_type": "code",
   "execution_count": null,
   "id": "dee526f9",
   "metadata": {},
   "outputs": [],
   "source": [
    "n=1+(nu1*nudot2-nu2*nudot1)/(nudot1*nudot2*dt)\n",
    "print(n)"
   ]
  },
  {
   "cell_type": "code",
   "execution_count": null,
   "id": "7c5ef601",
   "metadata": {},
   "outputs": [],
   "source": [
    "print(dt_days)"
   ]
  },
  {
   "cell_type": "code",
   "execution_count": null,
   "id": "8ebb4ee7",
   "metadata": {},
   "outputs": [],
   "source": []
  }
 ],
 "metadata": {
  "kernelspec": {
   "display_name": "Python 3 (ipykernel)",
   "language": "python",
   "name": "python3"
  },
  "language_info": {
   "codemirror_mode": {
    "name": "ipython",
    "version": 3
   },
   "file_extension": ".py",
   "mimetype": "text/x-python",
   "name": "python",
   "nbconvert_exporter": "python",
   "pygments_lexer": "ipython3",
   "version": "3.11.4"
  }
 },
 "nbformat": 4,
 "nbformat_minor": 5
}
