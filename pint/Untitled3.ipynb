{
 "cells": [
  {
   "cell_type": "code",
   "execution_count": 6,
   "id": "2fe5edf0",
   "metadata": {},
   "outputs": [
    {
     "name": "stderr",
     "output_type": "stream",
     "text": [
      "\u001b[1mINFO    \u001b[0m (pint.observatory              ): \u001b[1mApplying GPS to UTC clock correction (~few nanoseconds)\u001b[0m\n",
      "\u001b[1mINFO    \u001b[0m (pint.observatory              ): \u001b[1mApplying TT(TAI) to TT(BIPM2021) clock correction (~27 us)\u001b[0m\n",
      "\u001b[1mINFO    \u001b[0m (pint.observatory.topo_obs     ): \u001b[1mApplying observatory clock corrections for observatory='parkes'.\u001b[0m\n",
      "\u001b[33m\u001b[1mWARNING \u001b[0m (pint.toa                      ): \u001b[33m\u001b[1mNo ephemeris provided to TOAs object or compute_TDBs. Using DE421\u001b[0m\n",
      "\u001b[1mINFO    \u001b[0m (pint.solar_system_ephemerides ): \u001b[1mSet solar system ephemeris to de421 from download\u001b[0m\n"
     ]
    }
   ],
   "source": [
    "import numpy as np\n",
    "from astropy import units as u, constants as c\n",
    "from pint import pulsar_mjd\n",
    "from astropy.time import Time\n",
    "from pint import toa\n",
    "from pint.toa import get_TOAs\n",
    "\n",
    "t = Time(np.array([55000, 56000]), scale=\"utc\", format=\"pulsar_mjd\")\n",
    "obs = \"parkes\"\n",
    "\n",
    "toas = toa.get_TOAs_array(t, obs)"
   ]
  },
  {
   "cell_type": "code",
   "execution_count": 7,
   "id": "843dc3cc",
   "metadata": {},
   "outputs": [
    {
     "data": {
      "text/plain": [
       "2"
      ]
     },
     "execution_count": 7,
     "metadata": {},
     "output_type": "execute_result"
    }
   ],
   "source": [
    "import astropy.units as u\n",
    "import matplotlib.pyplot as plt\n",
    "\n",
    "import pint.fitter\n",
    "from pint.models import get_model_and_toas\n",
    "from pint.residuals import Residuals\n",
    "import pint.logging\n",
    "\n",
    "pint.logging.setup(level=\"INFO\")"
   ]
  },
  {
   "cell_type": "code",
   "execution_count": 8,
   "id": "1c313a36",
   "metadata": {},
   "outputs": [
    {
     "name": "stdout",
     "output_type": "stream",
     "text": [
      "2 TOAs starting at MJD 55000.0000000003\n"
     ]
    }
   ],
   "source": [
    "print(toas)"
   ]
  },
  {
   "cell_type": "code",
   "execution_count": 10,
   "id": "4044a29d",
   "metadata": {},
   "outputs": [
    {
     "name": "stderr",
     "output_type": "stream",
     "text": [
      "\u001b[33m\u001b[1mWARNING \u001b[0m (pint.logging                  ): \u001b[33m\u001b[1mD:\\miniconda3\\Lib\\site-packages\\pint\\models\\timing_model.py:392 UserWarning: PINT does not support 'DILATEFREQ Y'\u001b[0m\n",
      "\u001b[33m\u001b[1mWARNING \u001b[0m (pint.logging                  ): \u001b[33m\u001b[1mD:\\miniconda3\\Lib\\site-packages\\pint\\models\\timing_model.py:395 UserWarning: PINT only supports 'TIMEEPH FB90'\u001b[0m\n",
      "\u001b[33m\u001b[1mWARNING \u001b[0m (pint.logging                  ): \u001b[33m\u001b[1mD:\\miniconda3\\Lib\\site-packages\\pint\\models\\model_builder.py:198 UserWarning: Unrecognized parfile line 'EPHVER 5'\u001b[0m\n",
      "\u001b[33m\u001b[1mWARNING \u001b[0m (pint.logging                  ): \u001b[33m\u001b[1mD:\\miniconda3\\Lib\\site-packages\\pint\\models\\model_builder.py:198 UserWarning: Unrecognized parfile line 'DM_SERIES TAYLOR'\u001b[0m\n",
      "\u001b[33m\u001b[1mWARNING \u001b[0m (pint.models.model_builder     ): \u001b[33m\u001b[1mUNITS is not specified. Assuming TDB...\u001b[0m\n"
     ]
    }
   ],
   "source": [
    "from pint.models import get_model\n",
    "m = get_model(parfile,)\n"
   ]
  },
  {
   "cell_type": "code",
   "execution_count": 13,
   "id": "885e1840",
   "metadata": {},
   "outputs": [
    {
     "ename": "ValueError",
     "evalue": "could not convert string to float: 't8f32.dzT'",
     "output_type": "error",
     "traceback": [
      "\u001b[1;31m---------------------------------------------------------------------------\u001b[0m",
      "\u001b[1;31mValueError\u001b[0m                                Traceback (most recent call last)",
      "Cell \u001b[1;32mIn[13], line 4\u001b[0m\n\u001b[0;32m      1\u001b[0m parfile\u001b[38;5;241m=\u001b[39m \u001b[38;5;124m\"\u001b[39m\u001b[38;5;124mJ2124-3358.par\u001b[39m\u001b[38;5;124m\"\u001b[39m\n\u001b[0;32m      2\u001b[0m timfile\u001b[38;5;241m=\u001b[39m \u001b[38;5;124m\"\u001b[39m\u001b[38;5;124mJ2124-3358.tim\u001b[39m\u001b[38;5;124m\"\u001b[39m\n\u001b[1;32m----> 4\u001b[0m t \u001b[38;5;241m=\u001b[39m get_TOAs(timfile,obs, model\u001b[38;5;241m=\u001b[39mm)\n\u001b[0;32m      5\u001b[0m toas \u001b[38;5;241m=\u001b[39m toa\u001b[38;5;241m.\u001b[39mget_TOAs_array(timfile, obs)\n",
      "File \u001b[1;32mD:\\miniconda3\\Lib\\site-packages\\pint\\toa.py:274\u001b[0m, in \u001b[0;36mget_TOAs\u001b[1;34m(timfile, ephem, include_bipm, bipm_version, include_gps, planets, include_pn, model, usepickle, tdb_method, picklefilename, limits)\u001b[0m\n\u001b[0;32m    272\u001b[0m \u001b[38;5;28;01mif\u001b[39;00m \u001b[38;5;129;01mnot\u001b[39;00m usepickle \u001b[38;5;129;01mor\u001b[39;00m updatepickle:\n\u001b[0;32m    273\u001b[0m     \u001b[38;5;28;01mif\u001b[39;00m \u001b[38;5;28misinstance\u001b[39m(timfile, (\u001b[38;5;28mstr\u001b[39m, Path)) \u001b[38;5;129;01mor\u001b[39;00m \u001b[38;5;28mhasattr\u001b[39m(timfile, \u001b[38;5;124m\"\u001b[39m\u001b[38;5;124mreadlines\u001b[39m\u001b[38;5;124m\"\u001b[39m):\n\u001b[1;32m--> 274\u001b[0m         t \u001b[38;5;241m=\u001b[39m TOAs(timfile)\n\u001b[0;32m    275\u001b[0m     \u001b[38;5;28;01melse\u001b[39;00m:\n\u001b[0;32m    276\u001b[0m         t \u001b[38;5;241m=\u001b[39m merge_TOAs([TOAs(t) \u001b[38;5;28;01mfor\u001b[39;00m t \u001b[38;5;129;01min\u001b[39;00m timfile])\n",
      "File \u001b[1;32mD:\\miniconda3\\Lib\\site-packages\\pint\\toa.py:1336\u001b[0m, in \u001b[0;36mTOAs.__init__\u001b[1;34m(self, toafile, toalist, toatable, tzr)\u001b[0m\n\u001b[0;32m   1334\u001b[0m \u001b[38;5;28;01mif\u001b[39;00m toatable \u001b[38;5;129;01mis\u001b[39;00m \u001b[38;5;28;01mNone\u001b[39;00m:\n\u001b[0;32m   1335\u001b[0m     \u001b[38;5;28;01mif\u001b[39;00m \u001b[38;5;28misinstance\u001b[39m(toafile, (\u001b[38;5;28mstr\u001b[39m, Path)):\n\u001b[1;32m-> 1336\u001b[0m         toalist, \u001b[38;5;28mself\u001b[39m\u001b[38;5;241m.\u001b[39mcommands \u001b[38;5;241m=\u001b[39m read_toa_file(toafile)\n\u001b[0;32m   1337\u001b[0m         \u001b[38;5;66;03m# Check to see if there were any INCLUDEs:\u001b[39;00m\n\u001b[0;32m   1338\u001b[0m         inc_fns \u001b[38;5;241m=\u001b[39m [\n\u001b[0;32m   1339\u001b[0m             x[\u001b[38;5;241m0\u001b[39m][\u001b[38;5;241m1\u001b[39m] \u001b[38;5;28;01mfor\u001b[39;00m x \u001b[38;5;129;01min\u001b[39;00m \u001b[38;5;28mself\u001b[39m\u001b[38;5;241m.\u001b[39mcommands \u001b[38;5;28;01mif\u001b[39;00m x[\u001b[38;5;241m0\u001b[39m][\u001b[38;5;241m0\u001b[39m]\u001b[38;5;241m.\u001b[39mupper() \u001b[38;5;241m==\u001b[39m \u001b[38;5;124m\"\u001b[39m\u001b[38;5;124mINCLUDE\u001b[39m\u001b[38;5;124m\"\u001b[39m\n\u001b[0;32m   1340\u001b[0m         ]\n",
      "File \u001b[1;32mD:\\miniconda3\\Lib\\site-packages\\pint\\toa.py:727\u001b[0m, in \u001b[0;36mread_toa_file\u001b[1;34m(filename, process_includes, cdict, dir)\u001b[0m\n\u001b[0;32m    725\u001b[0m         \u001b[38;5;28mdir\u001b[39m \u001b[38;5;241m=\u001b[39m Path(filename)\u001b[38;5;241m.\u001b[39mparent\n\u001b[0;32m    726\u001b[0m     \u001b[38;5;28;01mwith\u001b[39;00m \u001b[38;5;28mopen\u001b[39m(filename, \u001b[38;5;124m\"\u001b[39m\u001b[38;5;124mr\u001b[39m\u001b[38;5;124m\"\u001b[39m) \u001b[38;5;28;01mas\u001b[39;00m f:\n\u001b[1;32m--> 727\u001b[0m         \u001b[38;5;28;01mreturn\u001b[39;00m read_toa_file(\n\u001b[0;32m    728\u001b[0m             f, process_includes\u001b[38;5;241m=\u001b[39mprocess_includes, cdict\u001b[38;5;241m=\u001b[39mcdict, \u001b[38;5;28mdir\u001b[39m\u001b[38;5;241m=\u001b[39m\u001b[38;5;28mdir\u001b[39m\n\u001b[0;32m    729\u001b[0m         )\n\u001b[0;32m    730\u001b[0m \u001b[38;5;28;01melse\u001b[39;00m:\n\u001b[0;32m    731\u001b[0m     f \u001b[38;5;241m=\u001b[39m filename\n",
      "File \u001b[1;32mD:\\miniconda3\\Lib\\site-packages\\pint\\toa.py:761\u001b[0m, in \u001b[0;36mread_toa_file\u001b[1;34m(filename, process_includes, cdict, dir)\u001b[0m\n\u001b[0;32m    759\u001b[0m     top \u001b[38;5;241m=\u001b[39m \u001b[38;5;28;01mFalse\u001b[39;00m\n\u001b[0;32m    760\u001b[0m \u001b[38;5;28;01mfor\u001b[39;00m line \u001b[38;5;129;01min\u001b[39;00m f\u001b[38;5;241m.\u001b[39mreadlines():\n\u001b[1;32m--> 761\u001b[0m     MJD, d \u001b[38;5;241m=\u001b[39m _parse_TOA_line(line, fmt\u001b[38;5;241m=\u001b[39mcdict[\u001b[38;5;124m\"\u001b[39m\u001b[38;5;124mFORMAT\u001b[39m\u001b[38;5;124m\"\u001b[39m])\n\u001b[0;32m    762\u001b[0m     \u001b[38;5;28;01mif\u001b[39;00m d[\u001b[38;5;124m\"\u001b[39m\u001b[38;5;124mformat\u001b[39m\u001b[38;5;124m\"\u001b[39m] \u001b[38;5;241m==\u001b[39m \u001b[38;5;124m\"\u001b[39m\u001b[38;5;124mCommand\u001b[39m\u001b[38;5;124m\"\u001b[39m:\n\u001b[0;32m    763\u001b[0m         cmd \u001b[38;5;241m=\u001b[39m d[\u001b[38;5;124m\"\u001b[39m\u001b[38;5;124mCommand\u001b[39m\u001b[38;5;124m\"\u001b[39m][\u001b[38;5;241m0\u001b[39m]\u001b[38;5;241m.\u001b[39mupper()\n",
      "File \u001b[1;32mD:\\miniconda3\\Lib\\site-packages\\pint\\toa.py:542\u001b[0m, in \u001b[0;36m_parse_TOA_line\u001b[1;34m(line, fmt)\u001b[0m\n\u001b[0;32m    532\u001b[0m \u001b[38;5;250m\u001b[39m\u001b[38;5;124;03m\"\"\"\u001b[39;00m\n\u001b[0;32m    533\u001b[0m \u001b[38;5;124;03mcolumns     item\u001b[39;00m\n\u001b[0;32m    534\u001b[0m \u001b[38;5;124;03m1-1         Must be blank\u001b[39;00m\n\u001b[1;32m   (...)\u001b[0m\n\u001b[0;32m    539\u001b[0m \u001b[38;5;124;03m80-80       Observatory (1 character)\u001b[39;00m\n\u001b[0;32m    540\u001b[0m \u001b[38;5;124;03m\"\"\"\u001b[39;00m\n\u001b[0;32m    541\u001b[0m d[\u001b[38;5;124m\"\u001b[39m\u001b[38;5;124mname\u001b[39m\u001b[38;5;124m\"\u001b[39m] \u001b[38;5;241m=\u001b[39m line[\u001b[38;5;241m1\u001b[39m:\u001b[38;5;241m25\u001b[39m]\n\u001b[1;32m--> 542\u001b[0m d[\u001b[38;5;124m\"\u001b[39m\u001b[38;5;124mfreq\u001b[39m\u001b[38;5;124m\"\u001b[39m] \u001b[38;5;241m=\u001b[39m \u001b[38;5;28mfloat\u001b[39m(line[\u001b[38;5;241m25\u001b[39m:\u001b[38;5;241m34\u001b[39m])\n\u001b[0;32m    543\u001b[0m ii \u001b[38;5;241m=\u001b[39m line[\u001b[38;5;241m34\u001b[39m:\u001b[38;5;241m41\u001b[39m]\n\u001b[0;32m    544\u001b[0m ff \u001b[38;5;241m=\u001b[39m line[\u001b[38;5;241m42\u001b[39m:\u001b[38;5;241m55\u001b[39m]\n",
      "\u001b[1;31mValueError\u001b[0m: could not convert string to float: 't8f32.dzT'"
     ]
    }
   ],
   "source": [
    "parfile= \"J2124-3358.par\"\n",
    "timfile= \"J2124-3358.tim\"\n",
    "\n",
    "t = get_TOAs(timfile,obs, model=m)\n",
    "toas = toa.get_TOAs_array(timfile, obs)"
   ]
  },
  {
   "cell_type": "code",
   "execution_count": null,
   "id": "67ed272f",
   "metadata": {},
   "outputs": [],
   "source": [
    "toas"
   ]
  },
  {
   "cell_type": "code",
   "execution_count": null,
   "id": "05d722e0",
   "metadata": {},
   "outputs": [],
   "source": []
  }
 ],
 "metadata": {
  "kernelspec": {
   "display_name": "Python 3 (ipykernel)",
   "language": "python",
   "name": "python3"
  },
  "language_info": {
   "codemirror_mode": {
    "name": "ipython",
    "version": 3
   },
   "file_extension": ".py",
   "mimetype": "text/x-python",
   "name": "python",
   "nbconvert_exporter": "python",
   "pygments_lexer": "ipython3",
   "version": "3.11.4"
  }
 },
 "nbformat": 4,
 "nbformat_minor": 5
}
