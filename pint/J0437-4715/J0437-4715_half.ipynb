{
 "cells": [
  {
   "cell_type": "code",
   "execution_count": 1,
   "id": "99ada25b",
   "metadata": {},
   "outputs": [
    {
     "name": "stderr",
     "output_type": "stream",
     "text": [
      "RuntimeWarning: This platform does not support extended precision floating-point, and PINT will run at reduced precision.\n"
     ]
    },
    {
     "data": {
      "text/plain": [
       "1"
      ]
     },
     "execution_count": 1,
     "metadata": {},
     "output_type": "execute_result"
    }
   ],
   "source": [
    "import astropy.units as u\n",
    "import matplotlib.pyplot as plt\n",
    "\n",
    "import pint.fitter\n",
    "from pint.models import get_model_and_toas\n",
    "from pint.residuals import Residuals\n",
    "import pint.logging\n",
    "\n",
    "pint.logging.setup(level=\"INFO\")"
   ]
  },
  {
   "cell_type": "code",
   "execution_count": 2,
   "id": "ecc46222",
   "metadata": {},
   "outputs": [
    {
     "ename": "UnknownBinaryModel",
     "evalue": "Pulsar system/Binary model component T2 is not provided.",
     "output_type": "error",
     "traceback": [
      "\u001b[1;31m---------------------------------------------------------------------------\u001b[0m",
      "\u001b[1;31mUnknownBinaryModel\u001b[0m                        Traceback (most recent call last)",
      "Cell \u001b[1;32mIn[2], line 4\u001b[0m\n\u001b[0;32m      1\u001b[0m parfile\u001b[38;5;241m=\u001b[39m \u001b[38;5;124m\"\u001b[39m\u001b[38;5;124mJ0437-4715.par\u001b[39m\u001b[38;5;124m\"\u001b[39m\n\u001b[0;32m      2\u001b[0m timfile\u001b[38;5;241m=\u001b[39m \u001b[38;5;124m\"\u001b[39m\u001b[38;5;124mJ0437-4715_p1.tim\u001b[39m\u001b[38;5;124m\"\u001b[39m\n\u001b[1;32m----> 4\u001b[0m m, t_all \u001b[38;5;241m=\u001b[39m get_model_and_toas(parfile, timfile)\n\u001b[0;32m      5\u001b[0m m\n",
      "File \u001b[1;32mD:\\miniconda3\\Lib\\site-packages\\pint\\models\\model_builder.py:798\u001b[0m, in \u001b[0;36mget_model_and_toas\u001b[1;34m(parfile, timfile, ephem, include_bipm, bipm_version, include_gps, planets, usepickle, tdb_method, include_pn, picklefilename, allow_name_mixing, limits, allow_tcb, add_tzr_to_model, **kwargs)\u001b[0m\n\u001b[0;32m    724\u001b[0m \u001b[38;5;28;01mdef\u001b[39;00m \u001b[38;5;21mget_model_and_toas\u001b[39m(\n\u001b[0;32m    725\u001b[0m     parfile,\n\u001b[0;32m    726\u001b[0m     timfile,\n\u001b[1;32m   (...)\u001b[0m\n\u001b[0;32m    740\u001b[0m     \u001b[38;5;241m*\u001b[39m\u001b[38;5;241m*\u001b[39mkwargs,\n\u001b[0;32m    741\u001b[0m ):\n\u001b[0;32m    742\u001b[0m \u001b[38;5;250m    \u001b[39m\u001b[38;5;124;03m\"\"\"Load a timing model and a related TOAs, using model commands as needed\u001b[39;00m\n\u001b[0;32m    743\u001b[0m \n\u001b[0;32m    744\u001b[0m \u001b[38;5;124;03m    Parameters\u001b[39;00m\n\u001b[1;32m   (...)\u001b[0m\n\u001b[0;32m    795\u001b[0m \u001b[38;5;124;03m    A tuple with (model instance, TOAs instance)\u001b[39;00m\n\u001b[0;32m    796\u001b[0m \u001b[38;5;124;03m    \"\"\"\u001b[39;00m\n\u001b[1;32m--> 798\u001b[0m     mm \u001b[38;5;241m=\u001b[39m get_model(parfile, allow_name_mixing, allow_tcb\u001b[38;5;241m=\u001b[39mallow_tcb, \u001b[38;5;241m*\u001b[39m\u001b[38;5;241m*\u001b[39mkwargs)\n\u001b[0;32m    800\u001b[0m     tt \u001b[38;5;241m=\u001b[39m get_TOAs(\n\u001b[0;32m    801\u001b[0m         timfile,\n\u001b[0;32m    802\u001b[0m         include_pn\u001b[38;5;241m=\u001b[39minclude_pn,\n\u001b[1;32m   (...)\u001b[0m\n\u001b[0;32m    812\u001b[0m         limits\u001b[38;5;241m=\u001b[39mlimits,\n\u001b[0;32m    813\u001b[0m     )\n\u001b[0;32m    815\u001b[0m     \u001b[38;5;28;01mif\u001b[39;00m \u001b[38;5;124m\"\u001b[39m\u001b[38;5;124mAbsPhase\u001b[39m\u001b[38;5;124m\"\u001b[39m \u001b[38;5;129;01mnot\u001b[39;00m \u001b[38;5;129;01min\u001b[39;00m mm\u001b[38;5;241m.\u001b[39mcomponents \u001b[38;5;129;01mand\u001b[39;00m add_tzr_to_model:\n",
      "File \u001b[1;32mD:\\miniconda3\\Lib\\site-packages\\pint\\models\\model_builder.py:712\u001b[0m, in \u001b[0;36mget_model\u001b[1;34m(parfile, allow_name_mixing, allow_tcb, toas_for_tzr, **kwargs)\u001b[0m\n\u001b[0;32m    701\u001b[0m     \u001b[38;5;28;01mreturn\u001b[39;00m model_builder(\n\u001b[0;32m    702\u001b[0m         StringIO(contents),\n\u001b[0;32m    703\u001b[0m         allow_name_mixing,\n\u001b[1;32m   (...)\u001b[0m\n\u001b[0;32m    706\u001b[0m         \u001b[38;5;241m*\u001b[39m\u001b[38;5;241m*\u001b[39mkwargs,\n\u001b[0;32m    707\u001b[0m     )\n\u001b[0;32m    709\u001b[0m \u001b[38;5;66;03m# # parfile is a filename and can be handled by ModelBuilder\u001b[39;00m\n\u001b[0;32m    710\u001b[0m \u001b[38;5;66;03m# if _model_builder is None:\u001b[39;00m\n\u001b[0;32m    711\u001b[0m \u001b[38;5;66;03m#     _model_builder = ModelBuilder()\u001b[39;00m\n\u001b[1;32m--> 712\u001b[0m model \u001b[38;5;241m=\u001b[39m model_builder(\n\u001b[0;32m    713\u001b[0m     parfile,\n\u001b[0;32m    714\u001b[0m     allow_name_mixing,\n\u001b[0;32m    715\u001b[0m     allow_tcb\u001b[38;5;241m=\u001b[39mallow_tcb,\n\u001b[0;32m    716\u001b[0m     toas_for_tzr\u001b[38;5;241m=\u001b[39mtoas_for_tzr,\n\u001b[0;32m    717\u001b[0m     \u001b[38;5;241m*\u001b[39m\u001b[38;5;241m*\u001b[39mkwargs,\n\u001b[0;32m    718\u001b[0m )\n\u001b[0;32m    719\u001b[0m model\u001b[38;5;241m.\u001b[39mname \u001b[38;5;241m=\u001b[39m parfile\n\u001b[0;32m    721\u001b[0m \u001b[38;5;28;01mreturn\u001b[39;00m model\n",
      "File \u001b[1;32mD:\\miniconda3\\Lib\\site-packages\\pint\\models\\model_builder.py:171\u001b[0m, in \u001b[0;36mModelBuilder.__call__\u001b[1;34m(self, parfile, allow_name_mixing, allow_tcb, toas_for_tzr, **kwargs)\u001b[0m\n\u001b[0;32m    169\u001b[0m     \u001b[38;5;28;01melse\u001b[39;00m:\n\u001b[0;32m    170\u001b[0m         remaining_args[k] \u001b[38;5;241m=\u001b[39m v\n\u001b[1;32m--> 171\u001b[0m selected, conflict, param_not_in_pint \u001b[38;5;241m=\u001b[39m \u001b[38;5;28mself\u001b[39m\u001b[38;5;241m.\u001b[39mchoose_model(pint_param_dict)\n\u001b[0;32m    172\u001b[0m selected\u001b[38;5;241m.\u001b[39mupdate(\u001b[38;5;28mset\u001b[39m(\u001b[38;5;28mself\u001b[39m\u001b[38;5;241m.\u001b[39mdefault_components))\n\u001b[0;32m    174\u001b[0m \u001b[38;5;66;03m# Add SolarSystemShapiro only if an Astrometry component is present.\u001b[39;00m\n",
      "File \u001b[1;32mD:\\miniconda3\\Lib\\site-packages\\pint\\models\\model_builder.py:450\u001b[0m, in \u001b[0;36mModelBuilder.choose_model\u001b[1;34m(self, param_inpar)\u001b[0m\n\u001b[0;32m    448\u001b[0m \u001b[38;5;28;01mif\u001b[39;00m binary \u001b[38;5;129;01mis\u001b[39;00m \u001b[38;5;129;01mnot\u001b[39;00m \u001b[38;5;28;01mNone\u001b[39;00m:\n\u001b[0;32m    449\u001b[0m     binary \u001b[38;5;241m=\u001b[39m binary[\u001b[38;5;241m0\u001b[39m]\n\u001b[1;32m--> 450\u001b[0m     binary_cp \u001b[38;5;241m=\u001b[39m \u001b[38;5;28mself\u001b[39m\u001b[38;5;241m.\u001b[39mall_components\u001b[38;5;241m.\u001b[39msearch_binary_components(binary)\n\u001b[0;32m    451\u001b[0m     selected_components\u001b[38;5;241m.\u001b[39madd(binary_cp\u001b[38;5;241m.\u001b[39m\u001b[38;5;18m__class__\u001b[39m\u001b[38;5;241m.\u001b[39m\u001b[38;5;18m__name__\u001b[39m)\n\u001b[0;32m    452\u001b[0m \u001b[38;5;66;03m# 2. Get the component list from the parameters in the parfile.\u001b[39;00m\n\u001b[0;32m    453\u001b[0m \u001b[38;5;66;03m# 2.1 Check the aliases of input parameters.\u001b[39;00m\n\u001b[0;32m    454\u001b[0m \u001b[38;5;66;03m# This does not include the repeating parameters, but it should not\u001b[39;00m\n\u001b[0;32m    455\u001b[0m \u001b[38;5;66;03m# matter in the component selection.\u001b[39;00m\n",
      "File \u001b[1;32mD:\\miniconda3\\Lib\\site-packages\\pint\\models\\timing_model.py:3612\u001b[0m, in \u001b[0;36mAllComponents.search_binary_components\u001b[1;34m(self, system_name)\u001b[0m\n\u001b[0;32m   3610\u001b[0m     \u001b[38;5;28;01mif\u001b[39;00m system_name \u001b[38;5;241m==\u001b[39m \u001b[38;5;28mself\u001b[39m\u001b[38;5;241m.\u001b[39mcomponents[cp_name]\u001b[38;5;241m.\u001b[39mbinary_model_name:\n\u001b[0;32m   3611\u001b[0m         \u001b[38;5;28;01mreturn\u001b[39;00m \u001b[38;5;28mself\u001b[39m\u001b[38;5;241m.\u001b[39mcomponents[cp_name]\n\u001b[1;32m-> 3612\u001b[0m \u001b[38;5;28;01mraise\u001b[39;00m UnknownBinaryModel(\n\u001b[0;32m   3613\u001b[0m     \u001b[38;5;124mf\u001b[39m\u001b[38;5;124m\"\u001b[39m\u001b[38;5;124mPulsar system/Binary model component\u001b[39m\u001b[38;5;124m\"\u001b[39m\n\u001b[0;32m   3614\u001b[0m     \u001b[38;5;124mf\u001b[39m\u001b[38;5;124m\"\u001b[39m\u001b[38;5;124m \u001b[39m\u001b[38;5;132;01m{\u001b[39;00msystem_name\u001b[38;5;132;01m}\u001b[39;00m\u001b[38;5;124m is not provided.\u001b[39m\u001b[38;5;124m\"\u001b[39m\n\u001b[0;32m   3615\u001b[0m )\n",
      "\u001b[1;31mUnknownBinaryModel\u001b[0m: Pulsar system/Binary model component T2 is not provided."
     ]
    }
   ],
   "source": [
    "parfile= \"J0437-4715.par\"\n",
    "timfile= \"J0437-4715_p1.tim\"\n",
    "\n",
    "m, t_all = get_model_and_toas(parfile, timfile)\n",
    "m"
   ]
  },
  {
   "cell_type": "code",
   "execution_count": null,
   "id": "4fc03f6e",
   "metadata": {},
   "outputs": [],
   "source": [
    "rs = Residuals(t_all, m).phase_resids\n",
    "xt = t_all.get_mjds()\n",
    "plt.figure()\n",
    "plt.plot(xt, rs, \"x\")\n",
    "plt.title(f\"{m.PSR.value} Pre-Fit Timing Residuals\")\n",
    "plt.xlabel(\"MJD\")\n",
    "plt.ylabel(\"Residual (phase)\")\n",
    "plt.grid()"
   ]
  },
  {
   "cell_type": "code",
   "execution_count": null,
   "id": "9680eeba",
   "metadata": {},
   "outputs": [],
   "source": [
    "t_all.print_summary()"
   ]
  },
  {
   "cell_type": "code",
   "execution_count": null,
   "id": "abc9d362",
   "metadata": {},
   "outputs": [],
   "source": [
    "error_ok = t_all.table[\"error\"] <= 1000* u.us\n",
    "t = t_all[error_ok]\n",
    "t.print_summary()\n",
    "\n"
   ]
  },
  {
   "cell_type": "code",
   "execution_count": null,
   "id": "24719dc2",
   "metadata": {},
   "outputs": [],
   "source": [
    "rs = Residuals(t, m).phase_resids\n",
    "xt = t.get_mjds()\n",
    "plt.figure()\n",
    "plt.plot(xt, rs, \"x\")\n",
    "plt.title(f\"{m.PSR.value} Pre-Fit Timing Residuals\")\n",
    "plt.xlabel(\"MJD\")\n",
    "plt.ylabel(\"Residual (phase)\")\n",
    "plt.grid()"
   ]
  },
  {
   "cell_type": "code",
   "execution_count": null,
   "id": "d31c7364",
   "metadata": {
    "scrolled": true
   },
   "outputs": [],
   "source": [
    "f = pint.fitter.Fitter.auto(t, m)\n",
    "f.fit_toas()"
   ]
  },
  {
   "cell_type": "code",
   "execution_count": null,
   "id": "6da62f5e",
   "metadata": {},
   "outputs": [],
   "source": [
    "f.print_summary()\n"
   ]
  },
  {
   "cell_type": "code",
   "execution_count": null,
   "id": "d1b4ef6a",
   "metadata": {},
   "outputs": [],
   "source": [
    "nu1=15.8222515841\n",
    "nu2=15.82225144\n",
    "nudot1=-3.96697e-12\n",
    "nudot2=-3.9652e-12\n",
    "dt_days=(58422.9+58172.6)/2-(58172.6+57360.8)/2\n",
    "dt=dt_days*24*60*60"
   ]
  },
  {
   "cell_type": "code",
   "execution_count": null,
   "id": "dee526f9",
   "metadata": {},
   "outputs": [],
   "source": [
    "n=1+(nu1*nudot2-nu2*nudot1)/(nudot1*nudot2*dt)\n",
    "print(n)"
   ]
  },
  {
   "cell_type": "code",
   "execution_count": null,
   "id": "7c5ef601",
   "metadata": {},
   "outputs": [],
   "source": []
  }
 ],
 "metadata": {
  "kernelspec": {
   "display_name": "Python 3 (ipykernel)",
   "language": "python",
   "name": "python3"
  },
  "language_info": {
   "codemirror_mode": {
    "name": "ipython",
    "version": 3
   },
   "file_extension": ".py",
   "mimetype": "text/x-python",
   "name": "python",
   "nbconvert_exporter": "python",
   "pygments_lexer": "ipython3",
   "version": "3.11.4"
  }
 },
 "nbformat": 4,
 "nbformat_minor": 5
}
