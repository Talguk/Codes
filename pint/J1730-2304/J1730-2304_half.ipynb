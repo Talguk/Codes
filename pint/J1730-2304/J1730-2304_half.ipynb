{
 "cells": [
  {
   "cell_type": "code",
   "execution_count": 1,
   "id": "99ada25b",
   "metadata": {},
   "outputs": [
    {
     "name": "stderr",
     "output_type": "stream",
     "text": [
      "RuntimeWarning: This platform does not support extended precision floating-point, and PINT will run at reduced precision.\n"
     ]
    },
    {
     "data": {
      "text/plain": [
       "1"
      ]
     },
     "execution_count": 1,
     "metadata": {},
     "output_type": "execute_result"
    }
   ],
   "source": [
    "import astropy.units as u\n",
    "import matplotlib.pyplot as plt\n",
    "\n",
    "import pint.fitter\n",
    "from pint.models import get_model_and_toas\n",
    "from pint.residuals import Residuals\n",
    "import pint.logging\n",
    "\n",
    "pint.logging.setup(level=\"INFO\")"
   ]
  },
  {
   "cell_type": "code",
   "execution_count": 10,
   "id": "ecc46222",
   "metadata": {},
   "outputs": [
    {
     "name": "stderr",
     "output_type": "stream",
     "text": [
      "\u001b[1mINFO    \u001b[0m (pint.toa                      ): \u001b[1mUsing CLOCK = TT(TAI), so setting include_bipm = False\u001b[0m\n",
      "\u001b[33m\u001b[1mWARNING \u001b[0m (pint.logging                  ): \u001b[33m\u001b[1mD:\\miniconda3\\Lib\\site-packages\\pint\\observatory\\clock_file.py:176 UserWarning: Data points out of range in clock file 'mo2gps.clk'\u001b[0m\n"
     ]
    },
    {
     "data": {
      "text/plain": [
       "TimingModel(\n",
       "  AbsPhase(\n",
       "    MJDParameter(   TZRMJD              57778.8453682432610186 (d) frozen=True),\n",
       "    strParameter(   TZRSITE             mo                frozen=True),\n",
       "    floatParameter( TZRFRQ              835.062012        (MHz) frozen=True)),\n",
       "  AstrometryEquatorial(\n",
       "    MJDParameter(   POSEPOCH            57600.0000000000000000 (d) frozen=True),\n",
       "    floatParameter( PX                  0.0               (mas) frozen=True),\n",
       "    AngleParameter( RAJ                 17:09:42.62494630 (hourangle) +/- 0h00m00.051919s frozen=False),\n",
       "    AngleParameter( DECJ                -44:29:12.95895000 (deg) +/- 0d00m01.2382s frozen=False),\n",
       "    floatParameter( PMRA                0.0               (mas / yr) frozen=True),\n",
       "    floatParameter( PMDEC               0.0               (mas / yr) frozen=True)),\n",
       "  DispersionDM(\n",
       "    floatParameter( DM                  75.69             (pc / cm3) frozen=True),\n",
       "    floatParameter( DM1                 UNSET,\n",
       "    MJDParameter(   DMEPOCH             57600.0000000000000000 (d) frozen=True)),\n",
       "  Glitch(\n",
       "    floatParameter( GLPH_1              0.371854015342839 () +/- 0.0 frozen=False),\n",
       "    MJDParameter(   GLEP_1              58178.0000000000000000 (d) frozen=True),\n",
       "    floatParameter( GLF0_1              1.3013682635551417e-16 (Hz) +/- 2.489893723162151 Hz frozen=False),\n",
       "    floatParameter( GLF1_1              -9.472480339767402e-15 (Hz / s) +/- 1.782825186623747e-15 Hz / s frozen=False),\n",
       "    floatParameter( GLF2_1              0.0               (Hz / s2) frozen=True),\n",
       "    floatParameter( GLF0D_1             5.359173764025572e-07 (Hz) +/- 0.0038021718820666155 Hz frozen=False),\n",
       "    floatParameter( GLTD_1              96.42936110007602 (d) +/- 5.395338649858743 d frozen=False)),\n",
       "  PLRedNoise(\n",
       "    floatParameter( RNAMP               UNSET,\n",
       "    floatParameter( RNIDX               UNSET,\n",
       "    floatParameter( TNREDAMP            -9.03666          () frozen=True),\n",
       "    floatParameter( TNREDGAM            8.10274           () frozen=True),\n",
       "    floatParameter( TNREDC              10.0              () frozen=True)),\n",
       "  SolarSystemShapiro(\n",
       "    boolParameter(  PLANET_SHAPIRO      N                 frozen=True)),\n",
       "  SolarWindDispersion(\n",
       "    floatParameter( NE_SW               9.961             (1 / cm3) frozen=True),\n",
       "    floatParameter( SWP                 2.0               () frozen=True),\n",
       "    floatParameter( SWM                 0.0               () frozen=True)),\n",
       "  Spindown(\n",
       "    floatParameter( F0                  9.754290055777854 (Hz) +/- 0.0 Hz frozen=False),\n",
       "    MJDParameter(   PEPOCH              57600.0000000000000000 (d) frozen=True),\n",
       "    floatParameter( F1                  -8.846765229281259e-12 (Hz / s) +/- 0.0 Hz / s frozen=False))\n",
       ")"
      ]
     },
     "execution_count": 10,
     "metadata": {},
     "output_type": "execute_result"
    }
   ],
   "source": [
    "parfile= \"J1709-4429.par\"\n",
    "timfile= \"J1709-4429_p2.tim\"\n",
    "\n",
    "m, t_all = get_model_and_toas(parfile, timfile)\n",
    "m"
   ]
  },
  {
   "cell_type": "code",
   "execution_count": 11,
   "id": "4fc03f6e",
   "metadata": {},
   "outputs": [
    {
     "data": {
      "image/png": "[encoded data removed]",
      "text/plain": [
       "<Figure size 640x480 with 1 Axes>"
      ]
     },
     "metadata": {},
     "output_type": "display_data"
    }
   ],
   "source": [
    "rs = Residuals(t_all, m).phase_resids\n",
    "xt = t_all.get_mjds()\n",
    "plt.figure()\n",
    "plt.plot(xt, rs, \"x\")\n",
    "plt.title(f\"{m.PSR.value} Pre-Fit Timing Residuals\")\n",
    "plt.xlabel(\"MJD\")\n",
    "plt.ylabel(\"Residual (phase)\")\n",
    "plt.grid()"
   ]
  },
  {
   "cell_type": "code",
   "execution_count": 12,
   "id": "9680eeba",
   "metadata": {},
   "outputs": [
    {
     "name": "stdout",
     "output_type": "stream",
     "text": [
      "Number of TOAs:  58\n",
      "Number of commands:  2\n",
      "Number of observatories: 1 ['most']\n",
      "MJD span:  57778.841 to 58418.203\n",
      "Date span: 2017-01-25 20:10:59.810848602 to 2018-10-27 04:51:49.845290701\n",
      "most TOAs (58):\n",
      "  Min freq:      834.782 MHz\n",
      "  Max freq:      835.506 MHz\n",
      "  Min error:     74.4 us\n",
      "  Max error:     1.27e+03 us\n",
      "  Median error:  129 us\n",
      "\n"
     ]
    }
   ],
   "source": [
    "t_all.print_summary()"
   ]
  },
  {
   "cell_type": "code",
   "execution_count": 13,
   "id": "abc9d362",
   "metadata": {},
   "outputs": [
    {
     "name": "stdout",
     "output_type": "stream",
     "text": [
      "Number of TOAs:  48\n",
      "Number of commands:  2\n",
      "Number of observatories: 1 ['most']\n",
      "MJD span:  57787.824 to 58418.203\n",
      "Date span: 2017-02-03 19:45:59.731935244 to 2018-10-27 04:51:49.845290701\n",
      "most TOAs (48):\n",
      "  Min freq:      834.782 MHz\n",
      "  Max freq:      835.500 MHz\n",
      "  Min error:     74.4 us\n",
      "  Max error:     475 us\n",
      "  Median error:  124 us\n",
      "\n"
     ]
    }
   ],
   "source": [
    "error_ok = t_all.table[\"error\"] <= 500* u.us\n",
    "t = t_all[error_ok]\n",
    "t.print_summary()\n",
    "\n"
   ]
  },
  {
   "cell_type": "code",
   "execution_count": 14,
   "id": "24719dc2",
   "metadata": {},
   "outputs": [
    {
     "data": {
      "image/png": "[encoded data removed]",
      "text/plain": [
       "<Figure size 640x480 with 1 Axes>"
      ]
     },
     "metadata": {},
     "output_type": "display_data"
    }
   ],
   "source": [
    "rs = Residuals(t, m).phase_resids\n",
    "xt = t.get_mjds()\n",
    "plt.figure()\n",
    "plt.plot(xt, rs, \"x\")\n",
    "plt.title(f\"{m.PSR.value} Pre-Fit Timing Residuals\")\n",
    "plt.xlabel(\"MJD\")\n",
    "plt.ylabel(\"Residual (phase)\")\n",
    "plt.grid()"
   ]
  },
  {
   "cell_type": "code",
   "execution_count": 15,
   "id": "d31c7364",
   "metadata": {
    "scrolled": true
   },
   "outputs": [
    {
     "name": "stderr",
     "output_type": "stream",
     "text": [
      "\u001b[1mINFO    \u001b[0m (pint.fitter                   ): \u001b[1mFor narrowband TOAs with correlated errors and downhill fitter, returning 'DownhillGLSFitter'\u001b[0m\n"
     ]
    },
    {
     "data": {
      "text/plain": [
       "True"
      ]
     },
     "execution_count": 15,
     "metadata": {},
     "output_type": "execute_result"
    }
   ],
   "source": [
    "f = pint.fitter.Fitter.auto(t, m)\n",
    "f.fit_toas()"
   ]
  },
  {
   "cell_type": "code",
   "execution_count": 16,
   "id": "6da62f5e",
   "metadata": {},
   "outputs": [
    {
     "name": "stdout",
     "output_type": "stream",
     "text": [
      "Fitted model using downhill_gls method with 9 free parameters to 48 TOAs\n",
      "Prefit residuals Wrms = 34124.00259419108 us, Postfit residuals Wrms = 21361.442179990718 us\n",
      "Chisq = 524.036 for 38 d.o.f. for reduced Chisq of 13.790\n",
      "\n",
      "PAR                   Prefit                  Postfit            Units\n",
      "============== ==================== ============================ =====\n",
      "PSR                      J1709-4429 J1709-4429                   None\n",
      "TRACK                            -2 -2                           None\n",
      "EPHEM                         DE430 DE430                        None\n",
      "CLOCK                       TT(TAI) TT(TAI)                      None\n",
      "UNITS                           TDB TDB                          None\n",
      "START                       57171.6                      57787.8 d \n",
      "FINISH                      58393.3                      58418.2 d \n",
      "DILATEFREQ                        N                              None\n",
      "DMDATA                            N                              None\n",
      "NTOA                            111                              None \n",
      "CHI2                                                     524.036  \n",
      "CHI2R                       37448.3                      13.7904  \n",
      "TRES                         124039                      21361.4 us \n",
      "POSEPOCH                      57600                              d \n",
      "PX                                0                              mas \n",
      "RAJ               17h09m42.6249463s  17h09m42.83290904s +/- 0.11 hourangle_second \n",
      "DECJ               -44d29m12.95895s  -44d29m02.32744578s +/- 2.3 arcsec \n",
      "PMRA                              0                              mas / yr \n",
      "PMDEC                             0                              mas / yr \n",
      "F0                          9.75429              9.754290000(26) Hz \n",
      "PEPOCH                        57600                              d \n",
      "F1                     -8.84677e-12             -8.8466(7)×10⁻¹² Hz / s \n",
      "PLANET_SHAPIRO                    N                              None\n",
      "NE_SW                         9.961                              1 / cm3 \n",
      "SWP                               2                               \n",
      "SWM                               0                               \n",
      "DM                            75.69                              pc / cm3 \n",
      "DMEPOCH                       57600                              d \n",
      "TNREDAMP                   -9.03666                               \n",
      "TNREDGAM                    8.10274                               \n",
      "TNREDC                           10                               \n",
      "TZRMJD                      57778.8                              d \n",
      "TZRSITE                          mo mo                           None\n",
      "TZRFRQ                      835.062                              MHz \n",
      "GLPH_1                     0.371854                   0.3670(25)  \n",
      "GLEP_1                        58178                              d \n",
      "GLF0_1                  1.30137e-16                2.95(34)×10⁻⁷ Hz \n",
      "GLF1_1                 -9.47248e-15              -2.20(30)×10⁻¹⁴ Hz / s \n",
      "GLF2_1                            0                              Hz / s2 \n",
      "GLF0D_1                 5.35917e-07                2.60(31)×10⁻⁷ Hz \n",
      "GLTD_1                      96.4294                        45(6) d \n",
      "\n",
      "Derived Parameters:\n",
      "Period = 0.10251899421083334 s +/- 2.705348974627912e-10 s\n",
      "Pdot = 9.297878918229804e-14 +/- 7.738471762029205e-18\n",
      "Characteristic age = 1.747e+04 yr (braking index = 3)\n",
      "Surface magnetic field = 3.12e+12 G\n",
      "Magnetic field at light cylinder = 2.628e+04 G\n",
      "Spindown Edot = 3.407e+36 erg / s (I=1e+45 cm2 g)\n",
      "\n"
     ]
    }
   ],
   "source": [
    "f.print_summary()\n"
   ]
  },
  {
   "cell_type": "code",
   "execution_count": 17,
   "id": "d1b4ef6a",
   "metadata": {},
   "outputs": [],
   "source": [
    "nu1=9.7542900447\n",
    "nu2=9.754290000\n",
    "nudot1=-8.85391e-12\n",
    "nudot2=-8.8466e-12\n",
    "dt_days=(58418.2+57787.8)/2-(57767.9+57171.6)/2\n",
    "dt=dt_days*24*60*60"
   ]
  },
  {
   "cell_type": "code",
   "execution_count": 18,
   "id": "dee526f9",
   "metadata": {},
   "outputs": [
    {
     "name": "stdout",
     "output_type": "stream",
     "text": [
      "17.63834773344862\n"
     ]
    }
   ],
   "source": [
    "n=1+(nu1*nudot2-nu2*nudot1)/(nudot1*nudot2*dt)\n",
    "print(n)"
   ]
  },
  {
   "cell_type": "code",
   "execution_count": null,
   "id": "7c5ef601",
   "metadata": {},
   "outputs": [],
   "source": []
  }
 ],
 "metadata": {
  "kernelspec": {
   "display_name": "Python 3 (ipykernel)",
   "language": "python",
   "name": "python3"
  },
  "language_info": {
   "codemirror_mode": {
    "name": "ipython",
    "version": 3
   },
   "file_extension": ".py",
   "mimetype": "text/x-python",
   "name": "python",
   "nbconvert_exporter": "python",
   "pygments_lexer": "ipython3",
   "version": "3.11.4"
  }
 },
 "nbformat": 4,
 "nbformat_minor": 5
}
